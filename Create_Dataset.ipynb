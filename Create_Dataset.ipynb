{
 "cells": [
  {
   "cell_type": "markdown",
   "id": "471e5919-f473-438b-9470-aac0657b06ea",
   "metadata": {},
   "source": [
    "# Data"
   ]
  },
  {
   "cell_type": "markdown",
   "id": "2b736b63-bd1b-4f91-b80b-a1a09fb2f302",
   "metadata": {},
   "source": [
    "The dataset was created using NOAA - Global Monitoring Laboratory's studies on greenhouse gases for nearly two decade\n",
    "\n",
    "For More Detail:\n",
    "https://gml.noaa.gov/ccgg/\n",
    "\n",
    "the dataset is about monthly measuring the atmospheric distribution and trends of the main long-term drivers of climate change, carbon dioxide (CO2), methane (CH4), and nitrous oxide (N2O), as well as Sulfur hexafluoride (SF6).\n",
    "\n",
    "**relative_temp** : relative temperature values according to reference temperature\n",
    "\n",
    "**CO2**: Data are reported as a dry air mole fraction defined as the number of molecules of carbon dioxide divided by the number of all molecules in air, including CO2 itself, after water vapor has been removed. The mole fraction is expressed as parts per million (ppm). Example: 0.000400 is expressed as 400 ppm.\n",
    "\n",
    "**CH4**: Methane is reported as a “dry air mole fraction”, defined as the number of molecules of methane divided by the total number of molecules in the sample, after water vapor has been removed. The mole fraction is expressed as nmol mol-1, abbreviated “ppb” (for parts per billion; 1 ppb indicates that one out of every billion molecules in an air sample is CH4).\n",
    "\n",
    "**N2O**: Nitrous oxide is reported as a “dry air mole fraction”, defined as the number of molecules of nitrous oxide divided by the total number of molecules in the sample, after water vapor has been removed. The mole fraction is expressed as nmol mol-1, abbreviated “ppb” (for parts per billion; 1 ppb indicates that one out of every billion molecules in an air sample is N2O).\n",
    "\n",
    "**SF6**: Sulfur hexafluoride is reported as a “dry air mole fraction”, defined as the number of molecules of sulfur hexafluoride divided by the total number of molecules in the sample, after water vapor has been removed. The mole fraction is expressed as pmol mol-1, abbreviated “ppt” (for parts per trillion; 1 ppt indicates that one out of every trillion molecules in an air sample is SF6)."
   ]
  },
  {
   "cell_type": "markdown",
   "id": "7c74a07e-cdb7-43f2-9386-7a91cc237441",
   "metadata": {},
   "source": [
    "![](greenhouse.jpg)\n"
   ]
  },
  {
   "cell_type": "markdown",
   "id": "56ec0093-da04-47b1-8dc7-ecc8f9945cf4",
   "metadata": {},
   "source": [
    "------------"
   ]
  },
  {
   "cell_type": "code",
   "execution_count": 1,
   "id": "d0ae65af-8308-4db2-b923-19c6ae638d19",
   "metadata": {},
   "outputs": [],
   "source": [
    "import pandas as pd\n",
    "import numpy as np\n",
    "import matplotlib.pyplot as plt\n",
    "import seaborn as sns\n",
    "from datetime import datetime "
   ]
  },
  {
   "cell_type": "markdown",
   "id": "3a717150-53f9-4549-b513-1627ee1722e8",
   "metadata": {},
   "source": [
    "### Temperature Data"
   ]
  },
  {
   "cell_type": "code",
   "execution_count": 2,
   "id": "8dc571e5-98ea-4911-83b1-be1b57dde2dc",
   "metadata": {},
   "outputs": [],
   "source": [
    "custom_date_parser = lambda x: datetime.strptime(x, \"%Y%m\")\n",
    "\n",
    "df_temp = pd.read_csv(\"./raw_data/1880-2022.csv\", parse_dates = [\"Year\"], date_parser=custom_date_parser, skiprows = 4)"
   ]
  },
  {
   "cell_type": "code",
   "execution_count": 3,
   "id": "14dfe878-2808-42db-85a0-6412428d5bc1",
   "metadata": {},
   "outputs": [],
   "source": [
    "df_temp.columns = [\"date\",\"relative_temp\"]"
   ]
  },
  {
   "cell_type": "code",
   "execution_count": 4,
   "id": "633abdbd-8162-4d14-a573-45817c8715e8",
   "metadata": {},
   "outputs": [
    {
     "data": {
      "text/html": [
       "<div>\n",
       "<style scoped>\n",
       "    .dataframe tbody tr th:only-of-type {\n",
       "        vertical-align: middle;\n",
       "    }\n",
       "\n",
       "    .dataframe tbody tr th {\n",
       "        vertical-align: top;\n",
       "    }\n",
       "\n",
       "    .dataframe thead th {\n",
       "        text-align: right;\n",
       "    }\n",
       "</style>\n",
       "<table border=\"1\" class=\"dataframe\">\n",
       "  <thead>\n",
       "    <tr style=\"text-align: right;\">\n",
       "      <th></th>\n",
       "      <th>date</th>\n",
       "      <th>relative_temp</th>\n",
       "    </tr>\n",
       "  </thead>\n",
       "  <tbody>\n",
       "    <tr>\n",
       "      <th>0</th>\n",
       "      <td>1880-01-01</td>\n",
       "      <td>-0.05</td>\n",
       "    </tr>\n",
       "    <tr>\n",
       "      <th>1</th>\n",
       "      <td>1880-02-01</td>\n",
       "      <td>-0.14</td>\n",
       "    </tr>\n",
       "    <tr>\n",
       "      <th>2</th>\n",
       "      <td>1880-03-01</td>\n",
       "      <td>-0.08</td>\n",
       "    </tr>\n",
       "    <tr>\n",
       "      <th>3</th>\n",
       "      <td>1880-04-01</td>\n",
       "      <td>-0.04</td>\n",
       "    </tr>\n",
       "    <tr>\n",
       "      <th>4</th>\n",
       "      <td>1880-05-01</td>\n",
       "      <td>-0.08</td>\n",
       "    </tr>\n",
       "  </tbody>\n",
       "</table>\n",
       "</div>"
      ],
      "text/plain": [
       "        date  relative_temp\n",
       "0 1880-01-01          -0.05\n",
       "1 1880-02-01          -0.14\n",
       "2 1880-03-01          -0.08\n",
       "3 1880-04-01          -0.04\n",
       "4 1880-05-01          -0.08"
      ]
     },
     "execution_count": 4,
     "metadata": {},
     "output_type": "execute_result"
    }
   ],
   "source": [
    "df_temp.head()"
   ]
  },
  {
   "cell_type": "code",
   "execution_count": 5,
   "id": "b8e0ee4f-961f-4bc3-b63e-76cb38c3d93b",
   "metadata": {},
   "outputs": [
    {
     "name": "stdout",
     "output_type": "stream",
     "text": [
      "<class 'pandas.core.frame.DataFrame'>\n",
      "RangeIndex: 1712 entries, 0 to 1711\n",
      "Data columns (total 2 columns):\n",
      " #   Column         Non-Null Count  Dtype         \n",
      "---  ------         --------------  -----         \n",
      " 0   date           1712 non-null   datetime64[ns]\n",
      " 1   relative_temp  1712 non-null   float64       \n",
      "dtypes: datetime64[ns](1), float64(1)\n",
      "memory usage: 26.9 KB\n"
     ]
    }
   ],
   "source": [
    "df_temp.info()"
   ]
  },
  {
   "cell_type": "code",
   "execution_count": 6,
   "id": "55657b1a-1733-4c8d-9d5f-7ffc51a8ec23",
   "metadata": {},
   "outputs": [],
   "source": [
    "df_temp.set_index([\"date\"], inplace = True)"
   ]
  },
  {
   "cell_type": "code",
   "execution_count": 7,
   "id": "10f74521-aae8-43c5-be84-a8af3cb069dc",
   "metadata": {},
   "outputs": [
    {
     "data": {
      "text/html": [
       "<div>\n",
       "<style scoped>\n",
       "    .dataframe tbody tr th:only-of-type {\n",
       "        vertical-align: middle;\n",
       "    }\n",
       "\n",
       "    .dataframe tbody tr th {\n",
       "        vertical-align: top;\n",
       "    }\n",
       "\n",
       "    .dataframe thead th {\n",
       "        text-align: right;\n",
       "    }\n",
       "</style>\n",
       "<table border=\"1\" class=\"dataframe\">\n",
       "  <thead>\n",
       "    <tr style=\"text-align: right;\">\n",
       "      <th></th>\n",
       "      <th>relative_temp</th>\n",
       "    </tr>\n",
       "    <tr>\n",
       "      <th>date</th>\n",
       "      <th></th>\n",
       "    </tr>\n",
       "  </thead>\n",
       "  <tbody>\n",
       "    <tr>\n",
       "      <th>1880-01-01</th>\n",
       "      <td>-0.05</td>\n",
       "    </tr>\n",
       "    <tr>\n",
       "      <th>1880-02-01</th>\n",
       "      <td>-0.14</td>\n",
       "    </tr>\n",
       "    <tr>\n",
       "      <th>1880-03-01</th>\n",
       "      <td>-0.08</td>\n",
       "    </tr>\n",
       "    <tr>\n",
       "      <th>1880-04-01</th>\n",
       "      <td>-0.04</td>\n",
       "    </tr>\n",
       "    <tr>\n",
       "      <th>1880-05-01</th>\n",
       "      <td>-0.08</td>\n",
       "    </tr>\n",
       "  </tbody>\n",
       "</table>\n",
       "</div>"
      ],
      "text/plain": [
       "            relative_temp\n",
       "date                     \n",
       "1880-01-01          -0.05\n",
       "1880-02-01          -0.14\n",
       "1880-03-01          -0.08\n",
       "1880-04-01          -0.04\n",
       "1880-05-01          -0.08"
      ]
     },
     "execution_count": 7,
     "metadata": {},
     "output_type": "execute_result"
    }
   ],
   "source": [
    "df_temp.head()"
   ]
  },
  {
   "cell_type": "code",
   "execution_count": 8,
   "id": "5e173568-7421-46d6-96ea-beaefb9d77d0",
   "metadata": {},
   "outputs": [
    {
     "data": {
      "text/plain": [
       "relative_temp    0\n",
       "dtype: int64"
      ]
     },
     "execution_count": 8,
     "metadata": {},
     "output_type": "execute_result"
    }
   ],
   "source": [
    "df_temp.isnull().sum()"
   ]
  },
  {
   "cell_type": "markdown",
   "id": "9b729582-a5f9-49a9-9fcc-b8a1e71d271a",
   "metadata": {},
   "source": [
    "------------"
   ]
  },
  {
   "cell_type": "markdown",
   "id": "3bcc11e8-6811-430f-8493-0551fe59ba69",
   "metadata": {},
   "source": [
    "### CO2 data"
   ]
  },
  {
   "cell_type": "code",
   "execution_count": 9,
   "id": "40bdebdd-065f-4ce2-8c29-1678d05a8483",
   "metadata": {},
   "outputs": [],
   "source": [
    "df_co2 = pd.read_csv(\"./raw_data/co2_mm_gl.csv\", parse_dates = {\"date\":[\"year\",\"month\"]}, skiprows = 55)"
   ]
  },
  {
   "cell_type": "code",
   "execution_count": 10,
   "id": "3a142d53-79cc-4677-a8cf-9104b76cbfad",
   "metadata": {},
   "outputs": [],
   "source": [
    "df_co2.drop([\"decimal\",\"average_unc\",\"trend\",\"trend_unc\"],axis=1, inplace=True)"
   ]
  },
  {
   "cell_type": "code",
   "execution_count": 11,
   "id": "b9002308-b74a-4377-a43d-4b7d38a33d2e",
   "metadata": {},
   "outputs": [],
   "source": [
    "df_co2.columns = [\"date\",\"co2\"]"
   ]
  },
  {
   "cell_type": "code",
   "execution_count": 12,
   "id": "5c1c500f-1f3d-4310-9187-2361641d18cd",
   "metadata": {},
   "outputs": [
    {
     "data": {
      "text/html": [
       "<div>\n",
       "<style scoped>\n",
       "    .dataframe tbody tr th:only-of-type {\n",
       "        vertical-align: middle;\n",
       "    }\n",
       "\n",
       "    .dataframe tbody tr th {\n",
       "        vertical-align: top;\n",
       "    }\n",
       "\n",
       "    .dataframe thead th {\n",
       "        text-align: right;\n",
       "    }\n",
       "</style>\n",
       "<table border=\"1\" class=\"dataframe\">\n",
       "  <thead>\n",
       "    <tr style=\"text-align: right;\">\n",
       "      <th></th>\n",
       "      <th>date</th>\n",
       "      <th>co2</th>\n",
       "    </tr>\n",
       "  </thead>\n",
       "  <tbody>\n",
       "    <tr>\n",
       "      <th>0</th>\n",
       "      <td>1979-01-01</td>\n",
       "      <td>336.56</td>\n",
       "    </tr>\n",
       "    <tr>\n",
       "      <th>1</th>\n",
       "      <td>1979-02-01</td>\n",
       "      <td>337.29</td>\n",
       "    </tr>\n",
       "    <tr>\n",
       "      <th>2</th>\n",
       "      <td>1979-03-01</td>\n",
       "      <td>337.88</td>\n",
       "    </tr>\n",
       "    <tr>\n",
       "      <th>3</th>\n",
       "      <td>1979-04-01</td>\n",
       "      <td>338.32</td>\n",
       "    </tr>\n",
       "    <tr>\n",
       "      <th>4</th>\n",
       "      <td>1979-05-01</td>\n",
       "      <td>338.26</td>\n",
       "    </tr>\n",
       "  </tbody>\n",
       "</table>\n",
       "</div>"
      ],
      "text/plain": [
       "        date     co2\n",
       "0 1979-01-01  336.56\n",
       "1 1979-02-01  337.29\n",
       "2 1979-03-01  337.88\n",
       "3 1979-04-01  338.32\n",
       "4 1979-05-01  338.26"
      ]
     },
     "execution_count": 12,
     "metadata": {},
     "output_type": "execute_result"
    }
   ],
   "source": [
    "df_co2.head()"
   ]
  },
  {
   "cell_type": "code",
   "execution_count": 13,
   "id": "9ce89efe-11f6-4e64-b9c0-42f6ab565e2c",
   "metadata": {},
   "outputs": [
    {
     "name": "stdout",
     "output_type": "stream",
     "text": [
      "<class 'pandas.core.frame.DataFrame'>\n",
      "RangeIndex: 522 entries, 0 to 521\n",
      "Data columns (total 2 columns):\n",
      " #   Column  Non-Null Count  Dtype         \n",
      "---  ------  --------------  -----         \n",
      " 0   date    522 non-null    datetime64[ns]\n",
      " 1   co2     522 non-null    float64       \n",
      "dtypes: datetime64[ns](1), float64(1)\n",
      "memory usage: 8.3 KB\n"
     ]
    }
   ],
   "source": [
    "df_co2.info()"
   ]
  },
  {
   "cell_type": "code",
   "execution_count": 14,
   "id": "8eb55eb4-8dba-46f8-af43-971d29e3b3fb",
   "metadata": {},
   "outputs": [],
   "source": [
    "df_co2.set_index([\"date\"], inplace = True)"
   ]
  },
  {
   "cell_type": "code",
   "execution_count": 15,
   "id": "6432fb21-8ac2-4d77-bf7f-50996ab9007a",
   "metadata": {},
   "outputs": [
    {
     "data": {
      "text/html": [
       "<div>\n",
       "<style scoped>\n",
       "    .dataframe tbody tr th:only-of-type {\n",
       "        vertical-align: middle;\n",
       "    }\n",
       "\n",
       "    .dataframe tbody tr th {\n",
       "        vertical-align: top;\n",
       "    }\n",
       "\n",
       "    .dataframe thead th {\n",
       "        text-align: right;\n",
       "    }\n",
       "</style>\n",
       "<table border=\"1\" class=\"dataframe\">\n",
       "  <thead>\n",
       "    <tr style=\"text-align: right;\">\n",
       "      <th></th>\n",
       "      <th>co2</th>\n",
       "    </tr>\n",
       "    <tr>\n",
       "      <th>date</th>\n",
       "      <th></th>\n",
       "    </tr>\n",
       "  </thead>\n",
       "  <tbody>\n",
       "    <tr>\n",
       "      <th>1979-01-01</th>\n",
       "      <td>336.56</td>\n",
       "    </tr>\n",
       "    <tr>\n",
       "      <th>1979-02-01</th>\n",
       "      <td>337.29</td>\n",
       "    </tr>\n",
       "    <tr>\n",
       "      <th>1979-03-01</th>\n",
       "      <td>337.88</td>\n",
       "    </tr>\n",
       "    <tr>\n",
       "      <th>1979-04-01</th>\n",
       "      <td>338.32</td>\n",
       "    </tr>\n",
       "    <tr>\n",
       "      <th>1979-05-01</th>\n",
       "      <td>338.26</td>\n",
       "    </tr>\n",
       "  </tbody>\n",
       "</table>\n",
       "</div>"
      ],
      "text/plain": [
       "               co2\n",
       "date              \n",
       "1979-01-01  336.56\n",
       "1979-02-01  337.29\n",
       "1979-03-01  337.88\n",
       "1979-04-01  338.32\n",
       "1979-05-01  338.26"
      ]
     },
     "execution_count": 15,
     "metadata": {},
     "output_type": "execute_result"
    }
   ],
   "source": [
    "df_co2.head()"
   ]
  },
  {
   "cell_type": "code",
   "execution_count": 16,
   "id": "da083f7a-96d1-4b4a-b3f5-e63f83abba58",
   "metadata": {},
   "outputs": [
    {
     "data": {
      "text/plain": [
       "co2    0\n",
       "dtype: int64"
      ]
     },
     "execution_count": 16,
     "metadata": {},
     "output_type": "execute_result"
    }
   ],
   "source": [
    "df_co2.isnull().sum()"
   ]
  },
  {
   "cell_type": "markdown",
   "id": "684fc222-9dec-46be-8cbb-3e71cba18ca6",
   "metadata": {},
   "source": [
    "------------"
   ]
  },
  {
   "cell_type": "markdown",
   "id": "356aba79-f3e3-42fb-ba4a-2a449b88e45a",
   "metadata": {},
   "source": [
    "### CH4 Data"
   ]
  },
  {
   "cell_type": "code",
   "execution_count": 17,
   "id": "aa35e6e2-1472-4744-8237-aa20c7b426e5",
   "metadata": {},
   "outputs": [],
   "source": [
    "df_ch4 = pd.read_csv(\"./raw_data/ch4_mm_gl.txt\", sep = r\"\\s+\", skiprows = 65, header = None, \n",
    "                     names = [\"year\",\"month\",\"decimal\",\"average\",\"average_unc\",\"trend\",\"trend_unc\"],\n",
    "                     parse_dates = {\"date\":[\"year\",\"month\"]})"
   ]
  },
  {
   "cell_type": "markdown",
   "id": "ea9dd621-4497-4678-b5e4-377c5b56d88a",
   "metadata": {},
   "source": [
    "* csv_read de parse kullanmadan date değişkeni atama\n",
    "\n",
    "df_ch4['date'] = pd.to_datetime(df_ch4[['year', 'month']].assign(DAY=1))\n",
    "\n",
    "* \"date\" i birinci kolon olarak atamak için\n",
    "\n",
    "first_column = df_ch4.pop('date')\n",
    "\n",
    "df_ch4.insert(0,\"date\",first_column)"
   ]
  },
  {
   "cell_type": "code",
   "execution_count": 18,
   "id": "c92fbed3-3552-48c2-8e84-63d0c4727dec",
   "metadata": {},
   "outputs": [],
   "source": [
    "df_ch4.drop([\"decimal\",\"average_unc\",\"trend\",\"trend_unc\"],axis=1, inplace=True)"
   ]
  },
  {
   "cell_type": "code",
   "execution_count": 19,
   "id": "abef5223-4c2a-4217-be9e-2474689f5f9f",
   "metadata": {},
   "outputs": [],
   "source": [
    "# bir değişkenin kolon ismini değiştirme\n",
    "\n",
    "df_ch4.columns= [\"date\", \"ch4\"]"
   ]
  },
  {
   "cell_type": "code",
   "execution_count": 20,
   "id": "7bc7e10b-1e6f-42d7-b120-c29265ea3bda",
   "metadata": {},
   "outputs": [
    {
     "data": {
      "text/html": [
       "<div>\n",
       "<style scoped>\n",
       "    .dataframe tbody tr th:only-of-type {\n",
       "        vertical-align: middle;\n",
       "    }\n",
       "\n",
       "    .dataframe tbody tr th {\n",
       "        vertical-align: top;\n",
       "    }\n",
       "\n",
       "    .dataframe thead th {\n",
       "        text-align: right;\n",
       "    }\n",
       "</style>\n",
       "<table border=\"1\" class=\"dataframe\">\n",
       "  <thead>\n",
       "    <tr style=\"text-align: right;\">\n",
       "      <th></th>\n",
       "      <th>date</th>\n",
       "      <th>ch4</th>\n",
       "    </tr>\n",
       "  </thead>\n",
       "  <tbody>\n",
       "    <tr>\n",
       "      <th>0</th>\n",
       "      <td>1983-07-01</td>\n",
       "      <td>1625.76</td>\n",
       "    </tr>\n",
       "    <tr>\n",
       "      <th>1</th>\n",
       "      <td>1983-08-01</td>\n",
       "      <td>1628.13</td>\n",
       "    </tr>\n",
       "    <tr>\n",
       "      <th>2</th>\n",
       "      <td>1983-09-01</td>\n",
       "      <td>1638.41</td>\n",
       "    </tr>\n",
       "    <tr>\n",
       "      <th>3</th>\n",
       "      <td>1983-10-01</td>\n",
       "      <td>1644.79</td>\n",
       "    </tr>\n",
       "    <tr>\n",
       "      <th>4</th>\n",
       "      <td>1983-11-01</td>\n",
       "      <td>1642.62</td>\n",
       "    </tr>\n",
       "  </tbody>\n",
       "</table>\n",
       "</div>"
      ],
      "text/plain": [
       "        date      ch4\n",
       "0 1983-07-01  1625.76\n",
       "1 1983-08-01  1628.13\n",
       "2 1983-09-01  1638.41\n",
       "3 1983-10-01  1644.79\n",
       "4 1983-11-01  1642.62"
      ]
     },
     "execution_count": 20,
     "metadata": {},
     "output_type": "execute_result"
    }
   ],
   "source": [
    "df_ch4.head()"
   ]
  },
  {
   "cell_type": "code",
   "execution_count": 21,
   "id": "75216342-7a77-465a-b165-609adc786694",
   "metadata": {},
   "outputs": [
    {
     "name": "stdout",
     "output_type": "stream",
     "text": [
      "<class 'pandas.core.frame.DataFrame'>\n",
      "RangeIndex: 467 entries, 0 to 466\n",
      "Data columns (total 2 columns):\n",
      " #   Column  Non-Null Count  Dtype         \n",
      "---  ------  --------------  -----         \n",
      " 0   date    467 non-null    datetime64[ns]\n",
      " 1   ch4     467 non-null    float64       \n",
      "dtypes: datetime64[ns](1), float64(1)\n",
      "memory usage: 7.4 KB\n"
     ]
    }
   ],
   "source": [
    "df_ch4.info()"
   ]
  },
  {
   "cell_type": "code",
   "execution_count": 22,
   "id": "df67dfe4-ae13-4824-b274-81a42091df01",
   "metadata": {},
   "outputs": [],
   "source": [
    "df_ch4.set_index([\"date\"], inplace = True)"
   ]
  },
  {
   "cell_type": "code",
   "execution_count": 23,
   "id": "b88a7654-3ce6-4f43-9206-415b69ba7d2f",
   "metadata": {},
   "outputs": [
    {
     "data": {
      "text/html": [
       "<div>\n",
       "<style scoped>\n",
       "    .dataframe tbody tr th:only-of-type {\n",
       "        vertical-align: middle;\n",
       "    }\n",
       "\n",
       "    .dataframe tbody tr th {\n",
       "        vertical-align: top;\n",
       "    }\n",
       "\n",
       "    .dataframe thead th {\n",
       "        text-align: right;\n",
       "    }\n",
       "</style>\n",
       "<table border=\"1\" class=\"dataframe\">\n",
       "  <thead>\n",
       "    <tr style=\"text-align: right;\">\n",
       "      <th></th>\n",
       "      <th>ch4</th>\n",
       "    </tr>\n",
       "    <tr>\n",
       "      <th>date</th>\n",
       "      <th></th>\n",
       "    </tr>\n",
       "  </thead>\n",
       "  <tbody>\n",
       "    <tr>\n",
       "      <th>1983-07-01</th>\n",
       "      <td>1625.76</td>\n",
       "    </tr>\n",
       "    <tr>\n",
       "      <th>1983-08-01</th>\n",
       "      <td>1628.13</td>\n",
       "    </tr>\n",
       "    <tr>\n",
       "      <th>1983-09-01</th>\n",
       "      <td>1638.41</td>\n",
       "    </tr>\n",
       "    <tr>\n",
       "      <th>1983-10-01</th>\n",
       "      <td>1644.79</td>\n",
       "    </tr>\n",
       "    <tr>\n",
       "      <th>1983-11-01</th>\n",
       "      <td>1642.62</td>\n",
       "    </tr>\n",
       "  </tbody>\n",
       "</table>\n",
       "</div>"
      ],
      "text/plain": [
       "                ch4\n",
       "date               \n",
       "1983-07-01  1625.76\n",
       "1983-08-01  1628.13\n",
       "1983-09-01  1638.41\n",
       "1983-10-01  1644.79\n",
       "1983-11-01  1642.62"
      ]
     },
     "execution_count": 23,
     "metadata": {},
     "output_type": "execute_result"
    }
   ],
   "source": [
    "df_ch4.head()"
   ]
  },
  {
   "cell_type": "code",
   "execution_count": 24,
   "id": "96e2a16f-8dde-4b42-8500-4d68e0316b89",
   "metadata": {},
   "outputs": [
    {
     "data": {
      "text/plain": [
       "ch4    0\n",
       "dtype: int64"
      ]
     },
     "execution_count": 24,
     "metadata": {},
     "output_type": "execute_result"
    }
   ],
   "source": [
    "df_ch4.isnull().sum()"
   ]
  },
  {
   "cell_type": "markdown",
   "id": "4eb8b7bd-f15f-415e-ac56-e200eb6563b7",
   "metadata": {},
   "source": [
    "---------"
   ]
  },
  {
   "cell_type": "markdown",
   "id": "6d2d92e8-0129-468b-a842-00a0c8ba7eca",
   "metadata": {},
   "source": [
    "### N2O Data"
   ]
  },
  {
   "cell_type": "code",
   "execution_count": 25,
   "id": "881f26ae-f6ed-4e1a-bc10-732b50986ba9",
   "metadata": {},
   "outputs": [],
   "source": [
    "df_n2o = pd.read_csv(\"./raw_data/n2o_mm_gl.txt\", sep = r\"\\s+\", skiprows = 65, header = None, \n",
    "                     names = [\"year\",\"month\",\"decimal\",\"average\",\"average_unc\",\"trend\",\"trend_unc\"],\n",
    "                     parse_dates = {\"date\":[\"year\",\"month\"]})"
   ]
  },
  {
   "cell_type": "code",
   "execution_count": 26,
   "id": "84a66f74-937f-4239-aff6-745d4860c51c",
   "metadata": {},
   "outputs": [],
   "source": [
    "df_n2o.drop([\"decimal\",\"average_unc\",\"trend\",\"trend_unc\"],axis=1, inplace=True)"
   ]
  },
  {
   "cell_type": "code",
   "execution_count": 27,
   "id": "cdb08611-ada8-4dca-80db-58dea038a2bf",
   "metadata": {},
   "outputs": [],
   "source": [
    "df_n2o.columns = [\"date\",\"n2o\"]"
   ]
  },
  {
   "cell_type": "code",
   "execution_count": 28,
   "id": "33b20740-83d0-46ce-b428-89b8902266c3",
   "metadata": {},
   "outputs": [
    {
     "data": {
      "text/html": [
       "<div>\n",
       "<style scoped>\n",
       "    .dataframe tbody tr th:only-of-type {\n",
       "        vertical-align: middle;\n",
       "    }\n",
       "\n",
       "    .dataframe tbody tr th {\n",
       "        vertical-align: top;\n",
       "    }\n",
       "\n",
       "    .dataframe thead th {\n",
       "        text-align: right;\n",
       "    }\n",
       "</style>\n",
       "<table border=\"1\" class=\"dataframe\">\n",
       "  <thead>\n",
       "    <tr style=\"text-align: right;\">\n",
       "      <th></th>\n",
       "      <th>date</th>\n",
       "      <th>n2o</th>\n",
       "    </tr>\n",
       "  </thead>\n",
       "  <tbody>\n",
       "    <tr>\n",
       "      <th>0</th>\n",
       "      <td>2001-01-01</td>\n",
       "      <td>316.30</td>\n",
       "    </tr>\n",
       "    <tr>\n",
       "      <th>1</th>\n",
       "      <td>2001-02-01</td>\n",
       "      <td>316.31</td>\n",
       "    </tr>\n",
       "    <tr>\n",
       "      <th>2</th>\n",
       "      <td>2001-03-01</td>\n",
       "      <td>316.21</td>\n",
       "    </tr>\n",
       "    <tr>\n",
       "      <th>3</th>\n",
       "      <td>2001-04-01</td>\n",
       "      <td>316.12</td>\n",
       "    </tr>\n",
       "    <tr>\n",
       "      <th>4</th>\n",
       "      <td>2001-05-01</td>\n",
       "      <td>316.11</td>\n",
       "    </tr>\n",
       "  </tbody>\n",
       "</table>\n",
       "</div>"
      ],
      "text/plain": [
       "        date     n2o\n",
       "0 2001-01-01  316.30\n",
       "1 2001-02-01  316.31\n",
       "2 2001-03-01  316.21\n",
       "3 2001-04-01  316.12\n",
       "4 2001-05-01  316.11"
      ]
     },
     "execution_count": 28,
     "metadata": {},
     "output_type": "execute_result"
    }
   ],
   "source": [
    "df_n2o.head()"
   ]
  },
  {
   "cell_type": "code",
   "execution_count": 29,
   "id": "bcc4fd20-b088-4550-9e5b-b62b5e65b960",
   "metadata": {},
   "outputs": [
    {
     "name": "stdout",
     "output_type": "stream",
     "text": [
      "<class 'pandas.core.frame.DataFrame'>\n",
      "RangeIndex: 257 entries, 0 to 256\n",
      "Data columns (total 2 columns):\n",
      " #   Column  Non-Null Count  Dtype         \n",
      "---  ------  --------------  -----         \n",
      " 0   date    257 non-null    datetime64[ns]\n",
      " 1   n2o     257 non-null    float64       \n",
      "dtypes: datetime64[ns](1), float64(1)\n",
      "memory usage: 4.1 KB\n"
     ]
    }
   ],
   "source": [
    "df_n2o.info()"
   ]
  },
  {
   "cell_type": "code",
   "execution_count": 30,
   "id": "696108a6-111f-4fff-ab53-ba9e8e14eca8",
   "metadata": {},
   "outputs": [],
   "source": [
    "df_n2o.set_index([\"date\"], inplace = True)"
   ]
  },
  {
   "cell_type": "code",
   "execution_count": 31,
   "id": "38fc9d59-ec00-4863-b48d-139393f1a243",
   "metadata": {},
   "outputs": [
    {
     "data": {
      "text/html": [
       "<div>\n",
       "<style scoped>\n",
       "    .dataframe tbody tr th:only-of-type {\n",
       "        vertical-align: middle;\n",
       "    }\n",
       "\n",
       "    .dataframe tbody tr th {\n",
       "        vertical-align: top;\n",
       "    }\n",
       "\n",
       "    .dataframe thead th {\n",
       "        text-align: right;\n",
       "    }\n",
       "</style>\n",
       "<table border=\"1\" class=\"dataframe\">\n",
       "  <thead>\n",
       "    <tr style=\"text-align: right;\">\n",
       "      <th></th>\n",
       "      <th>n2o</th>\n",
       "    </tr>\n",
       "    <tr>\n",
       "      <th>date</th>\n",
       "      <th></th>\n",
       "    </tr>\n",
       "  </thead>\n",
       "  <tbody>\n",
       "    <tr>\n",
       "      <th>2001-01-01</th>\n",
       "      <td>316.30</td>\n",
       "    </tr>\n",
       "    <tr>\n",
       "      <th>2001-02-01</th>\n",
       "      <td>316.31</td>\n",
       "    </tr>\n",
       "    <tr>\n",
       "      <th>2001-03-01</th>\n",
       "      <td>316.21</td>\n",
       "    </tr>\n",
       "    <tr>\n",
       "      <th>2001-04-01</th>\n",
       "      <td>316.12</td>\n",
       "    </tr>\n",
       "    <tr>\n",
       "      <th>2001-05-01</th>\n",
       "      <td>316.11</td>\n",
       "    </tr>\n",
       "  </tbody>\n",
       "</table>\n",
       "</div>"
      ],
      "text/plain": [
       "               n2o\n",
       "date              \n",
       "2001-01-01  316.30\n",
       "2001-02-01  316.31\n",
       "2001-03-01  316.21\n",
       "2001-04-01  316.12\n",
       "2001-05-01  316.11"
      ]
     },
     "execution_count": 31,
     "metadata": {},
     "output_type": "execute_result"
    }
   ],
   "source": [
    "df_n2o.head()"
   ]
  },
  {
   "cell_type": "code",
   "execution_count": 32,
   "id": "1657141e-6392-40c5-80f9-100f26e85271",
   "metadata": {},
   "outputs": [
    {
     "data": {
      "text/plain": [
       "n2o    0\n",
       "dtype: int64"
      ]
     },
     "execution_count": 32,
     "metadata": {},
     "output_type": "execute_result"
    }
   ],
   "source": [
    "df_n2o.isnull().sum()"
   ]
  },
  {
   "cell_type": "markdown",
   "id": "4c3a664a-7ed7-4fd9-97d9-f1a9ac20ca2a",
   "metadata": {},
   "source": [
    "-----------------"
   ]
  },
  {
   "cell_type": "markdown",
   "id": "9ca156e1-e710-4092-bd37-84f3017df29e",
   "metadata": {},
   "source": [
    "### SF6 Data\n",
    "* Monthly Trends in Globally-Averaged Atmospheric Sulfur Hexafluoride"
   ]
  },
  {
   "cell_type": "code",
   "execution_count": 33,
   "id": "5dd0f943-8621-4df5-9b85-96572d8e3a12",
   "metadata": {},
   "outputs": [],
   "source": [
    "df_sf6 = pd.read_csv(\"./raw_data/sf6_mm_gl.txt\", sep=r\"\\s+\", parse_dates = {\"date\":[\"year\",\"month\"]}, skiprows = 65,\n",
    "                     names = [\"year\",\"month\",\"decimal\",\"average\",\"average_unc\",\"trend\",\"trend_unc\"],\n",
    "                     header = None)"
   ]
  },
  {
   "cell_type": "code",
   "execution_count": 34,
   "id": "0ce081b9-0314-4019-822e-12e3f45c3d9c",
   "metadata": {},
   "outputs": [],
   "source": [
    "df_sf6.drop([\"decimal\",\"average_unc\",\"trend\",\"trend_unc\"],axis=1, inplace=True)"
   ]
  },
  {
   "cell_type": "code",
   "execution_count": 35,
   "id": "aaccded1-fc2d-4bbc-8ea4-73a56049cefb",
   "metadata": {},
   "outputs": [],
   "source": [
    "df_sf6.columns = [\"date\",\"sf6\"]"
   ]
  },
  {
   "cell_type": "code",
   "execution_count": 36,
   "id": "0dc4e885-57ae-4b5f-9421-d9d71b3a77f7",
   "metadata": {},
   "outputs": [
    {
     "data": {
      "text/html": [
       "<div>\n",
       "<style scoped>\n",
       "    .dataframe tbody tr th:only-of-type {\n",
       "        vertical-align: middle;\n",
       "    }\n",
       "\n",
       "    .dataframe tbody tr th {\n",
       "        vertical-align: top;\n",
       "    }\n",
       "\n",
       "    .dataframe thead th {\n",
       "        text-align: right;\n",
       "    }\n",
       "</style>\n",
       "<table border=\"1\" class=\"dataframe\">\n",
       "  <thead>\n",
       "    <tr style=\"text-align: right;\">\n",
       "      <th></th>\n",
       "      <th>date</th>\n",
       "      <th>sf6</th>\n",
       "    </tr>\n",
       "  </thead>\n",
       "  <tbody>\n",
       "    <tr>\n",
       "      <th>0</th>\n",
       "      <td>1997-07-01</td>\n",
       "      <td>4.00</td>\n",
       "    </tr>\n",
       "    <tr>\n",
       "      <th>1</th>\n",
       "      <td>1997-08-01</td>\n",
       "      <td>4.00</td>\n",
       "    </tr>\n",
       "    <tr>\n",
       "      <th>2</th>\n",
       "      <td>1997-09-01</td>\n",
       "      <td>4.02</td>\n",
       "    </tr>\n",
       "    <tr>\n",
       "      <th>3</th>\n",
       "      <td>1997-10-01</td>\n",
       "      <td>4.05</td>\n",
       "    </tr>\n",
       "    <tr>\n",
       "      <th>4</th>\n",
       "      <td>1997-11-01</td>\n",
       "      <td>4.08</td>\n",
       "    </tr>\n",
       "  </tbody>\n",
       "</table>\n",
       "</div>"
      ],
      "text/plain": [
       "        date   sf6\n",
       "0 1997-07-01  4.00\n",
       "1 1997-08-01  4.00\n",
       "2 1997-09-01  4.02\n",
       "3 1997-10-01  4.05\n",
       "4 1997-11-01  4.08"
      ]
     },
     "execution_count": 36,
     "metadata": {},
     "output_type": "execute_result"
    }
   ],
   "source": [
    "df_sf6.head()"
   ]
  },
  {
   "cell_type": "code",
   "execution_count": 37,
   "id": "33646c9f-fdd3-4422-8a77-4d09a5a4d006",
   "metadata": {},
   "outputs": [
    {
     "name": "stdout",
     "output_type": "stream",
     "text": [
      "<class 'pandas.core.frame.DataFrame'>\n",
      "RangeIndex: 299 entries, 0 to 298\n",
      "Data columns (total 2 columns):\n",
      " #   Column  Non-Null Count  Dtype         \n",
      "---  ------  --------------  -----         \n",
      " 0   date    299 non-null    datetime64[ns]\n",
      " 1   sf6     299 non-null    float64       \n",
      "dtypes: datetime64[ns](1), float64(1)\n",
      "memory usage: 4.8 KB\n"
     ]
    }
   ],
   "source": [
    "df_sf6.info()"
   ]
  },
  {
   "cell_type": "code",
   "execution_count": 38,
   "id": "2937521c-c62c-4d65-bcf7-ce5b35440e8b",
   "metadata": {},
   "outputs": [],
   "source": [
    "df_sf6.set_index([\"date\"], inplace = True)"
   ]
  },
  {
   "cell_type": "code",
   "execution_count": 39,
   "id": "963297dc-f933-4021-b4c7-143a6618a25e",
   "metadata": {},
   "outputs": [
    {
     "data": {
      "text/html": [
       "<div>\n",
       "<style scoped>\n",
       "    .dataframe tbody tr th:only-of-type {\n",
       "        vertical-align: middle;\n",
       "    }\n",
       "\n",
       "    .dataframe tbody tr th {\n",
       "        vertical-align: top;\n",
       "    }\n",
       "\n",
       "    .dataframe thead th {\n",
       "        text-align: right;\n",
       "    }\n",
       "</style>\n",
       "<table border=\"1\" class=\"dataframe\">\n",
       "  <thead>\n",
       "    <tr style=\"text-align: right;\">\n",
       "      <th></th>\n",
       "      <th>sf6</th>\n",
       "    </tr>\n",
       "    <tr>\n",
       "      <th>date</th>\n",
       "      <th></th>\n",
       "    </tr>\n",
       "  </thead>\n",
       "  <tbody>\n",
       "    <tr>\n",
       "      <th>1997-07-01</th>\n",
       "      <td>4.00</td>\n",
       "    </tr>\n",
       "    <tr>\n",
       "      <th>1997-08-01</th>\n",
       "      <td>4.00</td>\n",
       "    </tr>\n",
       "    <tr>\n",
       "      <th>1997-09-01</th>\n",
       "      <td>4.02</td>\n",
       "    </tr>\n",
       "    <tr>\n",
       "      <th>1997-10-01</th>\n",
       "      <td>4.05</td>\n",
       "    </tr>\n",
       "    <tr>\n",
       "      <th>1997-11-01</th>\n",
       "      <td>4.08</td>\n",
       "    </tr>\n",
       "  </tbody>\n",
       "</table>\n",
       "</div>"
      ],
      "text/plain": [
       "             sf6\n",
       "date            \n",
       "1997-07-01  4.00\n",
       "1997-08-01  4.00\n",
       "1997-09-01  4.02\n",
       "1997-10-01  4.05\n",
       "1997-11-01  4.08"
      ]
     },
     "execution_count": 39,
     "metadata": {},
     "output_type": "execute_result"
    }
   ],
   "source": [
    "df_sf6.head()"
   ]
  },
  {
   "cell_type": "markdown",
   "id": "f07d6f42-9a60-4654-b7d9-bdd6121af14a",
   "metadata": {},
   "source": [
    "-----------------"
   ]
  },
  {
   "cell_type": "markdown",
   "id": "252fb812-5a15-48e2-8ee8-141e84643d45",
   "metadata": {},
   "source": [
    "## Merge the data"
   ]
  },
  {
   "cell_type": "code",
   "execution_count": 40,
   "id": "318f0ce1-6309-4717-9739-4ce3703c357c",
   "metadata": {},
   "outputs": [],
   "source": [
    "df_concat = pd.concat([df_temp, df_co2, df_ch4, df_n2o, df_sf6], axis =1)"
   ]
  },
  {
   "cell_type": "code",
   "execution_count": 41,
   "id": "9da20688-2015-4137-afa8-7fa69c505919",
   "metadata": {},
   "outputs": [
    {
     "data": {
      "text/html": [
       "<div>\n",
       "<style scoped>\n",
       "    .dataframe tbody tr th:only-of-type {\n",
       "        vertical-align: middle;\n",
       "    }\n",
       "\n",
       "    .dataframe tbody tr th {\n",
       "        vertical-align: top;\n",
       "    }\n",
       "\n",
       "    .dataframe thead th {\n",
       "        text-align: right;\n",
       "    }\n",
       "</style>\n",
       "<table border=\"1\" class=\"dataframe\">\n",
       "  <thead>\n",
       "    <tr style=\"text-align: right;\">\n",
       "      <th></th>\n",
       "      <th>relative_temp</th>\n",
       "      <th>co2</th>\n",
       "      <th>ch4</th>\n",
       "      <th>n2o</th>\n",
       "      <th>sf6</th>\n",
       "    </tr>\n",
       "    <tr>\n",
       "      <th>date</th>\n",
       "      <th></th>\n",
       "      <th></th>\n",
       "      <th></th>\n",
       "      <th></th>\n",
       "      <th></th>\n",
       "    </tr>\n",
       "  </thead>\n",
       "  <tbody>\n",
       "    <tr>\n",
       "      <th>1880-01-01</th>\n",
       "      <td>-0.05</td>\n",
       "      <td>NaN</td>\n",
       "      <td>NaN</td>\n",
       "      <td>NaN</td>\n",
       "      <td>NaN</td>\n",
       "    </tr>\n",
       "    <tr>\n",
       "      <th>1880-02-01</th>\n",
       "      <td>-0.14</td>\n",
       "      <td>NaN</td>\n",
       "      <td>NaN</td>\n",
       "      <td>NaN</td>\n",
       "      <td>NaN</td>\n",
       "    </tr>\n",
       "    <tr>\n",
       "      <th>1880-03-01</th>\n",
       "      <td>-0.08</td>\n",
       "      <td>NaN</td>\n",
       "      <td>NaN</td>\n",
       "      <td>NaN</td>\n",
       "      <td>NaN</td>\n",
       "    </tr>\n",
       "    <tr>\n",
       "      <th>1880-04-01</th>\n",
       "      <td>-0.04</td>\n",
       "      <td>NaN</td>\n",
       "      <td>NaN</td>\n",
       "      <td>NaN</td>\n",
       "      <td>NaN</td>\n",
       "    </tr>\n",
       "    <tr>\n",
       "      <th>1880-05-01</th>\n",
       "      <td>-0.08</td>\n",
       "      <td>NaN</td>\n",
       "      <td>NaN</td>\n",
       "      <td>NaN</td>\n",
       "      <td>NaN</td>\n",
       "    </tr>\n",
       "    <tr>\n",
       "      <th>...</th>\n",
       "      <td>...</td>\n",
       "      <td>...</td>\n",
       "      <td>...</td>\n",
       "      <td>...</td>\n",
       "      <td>...</td>\n",
       "    </tr>\n",
       "    <tr>\n",
       "      <th>2022-04-01</th>\n",
       "      <td>0.84</td>\n",
       "      <td>418.48</td>\n",
       "      <td>1909.97</td>\n",
       "      <td>335.45</td>\n",
       "      <td>10.96</td>\n",
       "    </tr>\n",
       "    <tr>\n",
       "      <th>2022-05-01</th>\n",
       "      <td>0.77</td>\n",
       "      <td>418.52</td>\n",
       "      <td>1908.74</td>\n",
       "      <td>335.47</td>\n",
       "      <td>10.99</td>\n",
       "    </tr>\n",
       "    <tr>\n",
       "      <th>2022-06-01</th>\n",
       "      <td>0.88</td>\n",
       "      <td>417.42</td>\n",
       "      <td>NaN</td>\n",
       "      <td>NaN</td>\n",
       "      <td>NaN</td>\n",
       "    </tr>\n",
       "    <tr>\n",
       "      <th>2022-07-01</th>\n",
       "      <td>0.88</td>\n",
       "      <td>NaN</td>\n",
       "      <td>NaN</td>\n",
       "      <td>NaN</td>\n",
       "      <td>NaN</td>\n",
       "    </tr>\n",
       "    <tr>\n",
       "      <th>2022-08-01</th>\n",
       "      <td>0.90</td>\n",
       "      <td>NaN</td>\n",
       "      <td>NaN</td>\n",
       "      <td>NaN</td>\n",
       "      <td>NaN</td>\n",
       "    </tr>\n",
       "  </tbody>\n",
       "</table>\n",
       "<p>1712 rows × 5 columns</p>\n",
       "</div>"
      ],
      "text/plain": [
       "            relative_temp     co2      ch4     n2o    sf6\n",
       "date                                                     \n",
       "1880-01-01          -0.05     NaN      NaN     NaN    NaN\n",
       "1880-02-01          -0.14     NaN      NaN     NaN    NaN\n",
       "1880-03-01          -0.08     NaN      NaN     NaN    NaN\n",
       "1880-04-01          -0.04     NaN      NaN     NaN    NaN\n",
       "1880-05-01          -0.08     NaN      NaN     NaN    NaN\n",
       "...                   ...     ...      ...     ...    ...\n",
       "2022-04-01           0.84  418.48  1909.97  335.45  10.96\n",
       "2022-05-01           0.77  418.52  1908.74  335.47  10.99\n",
       "2022-06-01           0.88  417.42      NaN     NaN    NaN\n",
       "2022-07-01           0.88     NaN      NaN     NaN    NaN\n",
       "2022-08-01           0.90     NaN      NaN     NaN    NaN\n",
       "\n",
       "[1712 rows x 5 columns]"
      ]
     },
     "execution_count": 41,
     "metadata": {},
     "output_type": "execute_result"
    }
   ],
   "source": [
    "df_concat"
   ]
  },
  {
   "cell_type": "code",
   "execution_count": 42,
   "id": "2a51bb4b-98f7-4e52-a941-b62c9570e1c8",
   "metadata": {},
   "outputs": [
    {
     "data": {
      "image/png": "[encoded data removed]",
      "text/plain": [
       "<Figure size 640x480 with 1 Axes>"
      ]
     },
     "metadata": {},
     "output_type": "display_data"
    }
   ],
   "source": [
    "sns.lineplot(data = df_concat);"
   ]
  },
  {
   "cell_type": "markdown",
   "id": "b2166eee-208b-43f0-a1d1-055a6c38047e",
   "metadata": {},
   "source": [
    "----------------"
   ]
  },
  {
   "cell_type": "markdown",
   "id": "4ed89344-f81a-4a9f-a75d-71406243d01b",
   "metadata": {},
   "source": [
    "### Finding First and Last Mesurement Dates with Certain Number for all Features"
   ]
  },
  {
   "cell_type": "code",
   "execution_count": 43,
   "id": "4c622b38-96a8-406f-bd7c-5edbc9930d5c",
   "metadata": {},
   "outputs": [
    {
     "name": "stdout",
     "output_type": "stream",
     "text": [
      "Fisrt and Last Mesurement Dates\n",
      "------------------------------\n",
      "RELATIVE_TEMP\n",
      "date\n",
      "1880-01-01   -0.05\n",
      "2022-08-01    0.90\n",
      "Name: relative_temp, dtype: float64\n",
      "------------------------------\n",
      "CO2\n",
      "date\n",
      "1979-01-01    336.56\n",
      "2022-06-01    417.42\n",
      "Name: co2, dtype: float64\n",
      "------------------------------\n",
      "CH4\n",
      "date\n",
      "1983-07-01    1625.76\n",
      "2022-05-01    1908.74\n",
      "Name: ch4, dtype: float64\n",
      "------------------------------\n",
      "N2O\n",
      "date\n",
      "2001-01-01    316.30\n",
      "2022-05-01    335.47\n",
      "Name: n2o, dtype: float64\n",
      "------------------------------\n",
      "SF6\n",
      "date\n",
      "1997-07-01     4.00\n",
      "2022-05-01    10.99\n",
      "Name: sf6, dtype: float64\n"
     ]
    }
   ],
   "source": [
    "print(\"Fisrt and Last Mesurement Dates\")\n",
    "for i in df_concat.columns:\n",
    "    print(30*\"-\")\n",
    "    print(i.upper())\n",
    "    print(df_concat[i][df_concat[i].notnull()].take([0,-1]))"
   ]
  },
  {
   "cell_type": "code",
   "execution_count": 44,
   "id": "29fed10a-0a05-4db0-905d-525e3e30aef2",
   "metadata": {},
   "outputs": [
    {
     "data": {
      "text/html": [
       "<div>\n",
       "<style scoped>\n",
       "    .dataframe tbody tr th:only-of-type {\n",
       "        vertical-align: middle;\n",
       "    }\n",
       "\n",
       "    .dataframe tbody tr th {\n",
       "        vertical-align: top;\n",
       "    }\n",
       "\n",
       "    .dataframe thead th {\n",
       "        text-align: right;\n",
       "    }\n",
       "</style>\n",
       "<table border=\"1\" class=\"dataframe\">\n",
       "  <thead>\n",
       "    <tr style=\"text-align: right;\">\n",
       "      <th></th>\n",
       "      <th>relative_temp</th>\n",
       "      <th>co2</th>\n",
       "      <th>ch4</th>\n",
       "      <th>n2o</th>\n",
       "      <th>sf6</th>\n",
       "    </tr>\n",
       "    <tr>\n",
       "      <th>date</th>\n",
       "      <th></th>\n",
       "      <th></th>\n",
       "      <th></th>\n",
       "      <th></th>\n",
       "      <th></th>\n",
       "    </tr>\n",
       "  </thead>\n",
       "  <tbody>\n",
       "    <tr>\n",
       "      <th>2001-01-01</th>\n",
       "      <td>0.47</td>\n",
       "      <td>370.68</td>\n",
       "      <td>1772.86</td>\n",
       "      <td>316.30</td>\n",
       "      <td>4.69</td>\n",
       "    </tr>\n",
       "    <tr>\n",
       "      <th>2001-02-01</th>\n",
       "      <td>0.41</td>\n",
       "      <td>371.18</td>\n",
       "      <td>1772.50</td>\n",
       "      <td>316.31</td>\n",
       "      <td>4.71</td>\n",
       "    </tr>\n",
       "    <tr>\n",
       "      <th>2001-03-01</th>\n",
       "      <td>0.65</td>\n",
       "      <td>371.59</td>\n",
       "      <td>1773.63</td>\n",
       "      <td>316.21</td>\n",
       "      <td>4.73</td>\n",
       "    </tr>\n",
       "    <tr>\n",
       "      <th>2001-04-01</th>\n",
       "      <td>0.59</td>\n",
       "      <td>371.90</td>\n",
       "      <td>1773.84</td>\n",
       "      <td>316.12</td>\n",
       "      <td>4.75</td>\n",
       "    </tr>\n",
       "    <tr>\n",
       "      <th>2001-05-01</th>\n",
       "      <td>0.62</td>\n",
       "      <td>371.80</td>\n",
       "      <td>1770.73</td>\n",
       "      <td>316.11</td>\n",
       "      <td>4.76</td>\n",
       "    </tr>\n",
       "    <tr>\n",
       "      <th>...</th>\n",
       "      <td>...</td>\n",
       "      <td>...</td>\n",
       "      <td>...</td>\n",
       "      <td>...</td>\n",
       "      <td>...</td>\n",
       "    </tr>\n",
       "    <tr>\n",
       "      <th>2022-01-01</th>\n",
       "      <td>0.88</td>\n",
       "      <td>417.18</td>\n",
       "      <td>1908.15</td>\n",
       "      <td>335.26</td>\n",
       "      <td>10.85</td>\n",
       "    </tr>\n",
       "    <tr>\n",
       "      <th>2022-02-01</th>\n",
       "      <td>0.80</td>\n",
       "      <td>417.63</td>\n",
       "      <td>1908.11</td>\n",
       "      <td>335.34</td>\n",
       "      <td>10.88</td>\n",
       "    </tr>\n",
       "    <tr>\n",
       "      <th>2022-03-01</th>\n",
       "      <td>0.93</td>\n",
       "      <td>418.06</td>\n",
       "      <td>1909.28</td>\n",
       "      <td>335.39</td>\n",
       "      <td>10.92</td>\n",
       "    </tr>\n",
       "    <tr>\n",
       "      <th>2022-04-01</th>\n",
       "      <td>0.84</td>\n",
       "      <td>418.48</td>\n",
       "      <td>1909.97</td>\n",
       "      <td>335.45</td>\n",
       "      <td>10.96</td>\n",
       "    </tr>\n",
       "    <tr>\n",
       "      <th>2022-05-01</th>\n",
       "      <td>0.77</td>\n",
       "      <td>418.52</td>\n",
       "      <td>1908.74</td>\n",
       "      <td>335.47</td>\n",
       "      <td>10.99</td>\n",
       "    </tr>\n",
       "  </tbody>\n",
       "</table>\n",
       "<p>257 rows × 5 columns</p>\n",
       "</div>"
      ],
      "text/plain": [
       "            relative_temp     co2      ch4     n2o    sf6\n",
       "date                                                     \n",
       "2001-01-01           0.47  370.68  1772.86  316.30   4.69\n",
       "2001-02-01           0.41  371.18  1772.50  316.31   4.71\n",
       "2001-03-01           0.65  371.59  1773.63  316.21   4.73\n",
       "2001-04-01           0.59  371.90  1773.84  316.12   4.75\n",
       "2001-05-01           0.62  371.80  1770.73  316.11   4.76\n",
       "...                   ...     ...      ...     ...    ...\n",
       "2022-01-01           0.88  417.18  1908.15  335.26  10.85\n",
       "2022-02-01           0.80  417.63  1908.11  335.34  10.88\n",
       "2022-03-01           0.93  418.06  1909.28  335.39  10.92\n",
       "2022-04-01           0.84  418.48  1909.97  335.45  10.96\n",
       "2022-05-01           0.77  418.52  1908.74  335.47  10.99\n",
       "\n",
       "[257 rows x 5 columns]"
      ]
     },
     "execution_count": 44,
     "metadata": {},
     "output_type": "execute_result"
    }
   ],
   "source": [
    "# dateframe with all features having mesaurement at the same date\n",
    "\n",
    "df_concat[df_concat.notnull()].dropna()"
   ]
  },
  {
   "cell_type": "code",
   "execution_count": 45,
   "id": "17cfd197-ef03-4e28-9491-571db9b46c1b",
   "metadata": {},
   "outputs": [],
   "source": [
    "df_value = df_concat[df_concat.notnull()].dropna()"
   ]
  },
  {
   "cell_type": "code",
   "execution_count": 46,
   "id": "d4582cb2-fb6a-43f9-aa9e-7ef23f306b36",
   "metadata": {},
   "outputs": [
    {
     "data": {
      "text/plain": [
       "<AxesSubplot:xlabel='date'>"
      ]
     },
     "execution_count": 46,
     "metadata": {},
     "output_type": "execute_result"
    },
    {
     "data": {
      "image/png": "[encoded data removed]",
      "text/plain": [
       "<Figure size 640x480 with 1 Axes>"
      ]
     },
     "metadata": {},
     "output_type": "display_data"
    }
   ],
   "source": [
    "sns.lineplot(data = df_value)"
   ]
  },
  {
   "cell_type": "code",
   "execution_count": 47,
   "id": "5aa42726-37da-43e7-a9b9-5e4079f07beb",
   "metadata": {},
   "outputs": [],
   "source": [
    "df_value.to_csv(\"greenhouse_gases.csv\")"
   ]
  },
  {
   "cell_type": "markdown",
   "id": "987b7597-36a9-4b50-b4a2-b42f4472f267",
   "metadata": {},
   "source": [
    "--------------------"
   ]
  },
  {
   "cell_type": "markdown",
   "id": "99553d88-0a6c-4a9d-8fd0-71bd454f4109",
   "metadata": {},
   "source": [
    "## Create Relative Difference Variables for each gas measurement"
   ]
  },
  {
   "cell_type": "code",
   "execution_count": 48,
   "id": "53b464d6-0c8f-4571-9415-b6a7575c3fe5",
   "metadata": {},
   "outputs": [],
   "source": [
    "# to subtract the previous row from the current row in a pandas dataframe and apply it to every row\n",
    "\n",
    "# percentage chanching\n",
    "# df[\"relative_co2\"] = round(df[\"co2\"].pct_change()*100,2)\n",
    "\n",
    "# normal chancing \n",
    "# df[\"relative_co2\"] = round(df[\"co2\"].diff(),2)"
   ]
  },
  {
   "cell_type": "markdown",
   "id": "36348d6f-d862-40c8-869c-7bfd7f99afc4",
   "metadata": {},
   "source": [
    "### get diff "
   ]
  },
  {
   "cell_type": "code",
   "execution_count": 51,
   "id": "4982f5ac-5f5d-4646-a734-2cbcc81c67fa",
   "metadata": {},
   "outputs": [],
   "source": [
    "# percentage changing\n",
    "df_value[\"relative_co2\"] = round(df_value[\"co2\"].diff(),2)\n",
    "df_value[\"relative_ch4\"] = round(df_value[\"ch4\"].diff(),2)\n",
    "df_value[\"relative_n2o\"] = round(df_value[\"n2o\"].diff(),2)\n",
    "df_value[\"relative_sf6\"] = round(df_value[\"sf6\"].diff(),2)"
   ]
  },
  {
   "cell_type": "markdown",
   "id": "ad40a295-e198-48db-bb20-440874e767ea",
   "metadata": {},
   "source": [
    "### fill the firt row's Nan values with next row values after apply get diff"
   ]
  },
  {
   "cell_type": "code",
   "execution_count": 53,
   "id": "0cdf5c4c-041a-433d-a682-fdeef01f0637",
   "metadata": {},
   "outputs": [],
   "source": [
    "df=df_value.fillna(method='bfill')"
   ]
  },
  {
   "cell_type": "markdown",
   "id": "d9c21bad-5b75-4453-87ed-8baa2d0cd0c5",
   "metadata": {},
   "source": [
    "------------"
   ]
  },
  {
   "cell_type": "markdown",
   "id": "ec848536-2862-4d0e-b2c9-c3c46d5226f6",
   "metadata": {},
   "source": [
    "# Save as csv"
   ]
  },
  {
   "cell_type": "code",
   "execution_count": 54,
   "id": "a935af2b-b244-4dbf-8e54-c523c0768948",
   "metadata": {},
   "outputs": [],
   "source": [
    "df.to_csv(\"greenhouse_gases.csv\")"
   ]
  },
  {
   "cell_type": "code",
   "execution_count": null,
   "id": "1f22008f-5d3b-4d82-a8f4-97bce763bfc6",
   "metadata": {},
   "outputs": [],
   "source": []
  }
 ],
 "metadata": {
  "kernelspec": {
   "display_name": "Python 3 (ipykernel)",
   "language": "python",
   "name": "python3"
  },
  "language_info": {
   "codemirror_mode": {
    "name": "ipython",
    "version": 3
   },
   "file_extension": ".py",
   "mimetype": "text/x-python",
   "name": "python",
   "nbconvert_exporter": "python",
   "pygments_lexer": "ipython3",
   "version": "3.9.7"
  }
 },
 "nbformat": 4,
 "nbformat_minor": 5
}
